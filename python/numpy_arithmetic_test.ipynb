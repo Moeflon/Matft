{
 "cells": [
  {
   "cell_type": "code",
   "execution_count": 1,
   "metadata": {
    "scrolled": true
   },
   "outputs": [
    {
     "name": "stdout",
     "output_type": "stream",
     "text": [
      "962 µs ± 273 µs per loop (mean ± std. dev. of 7 runs, 10 loops each)\n"
     ]
    }
   ],
   "source": [
    "import numpy as np\n",
    "#import timeit\n",
    "\n",
    "a = np.arange(10**6).reshape((10,10,10,10,10,10))\n",
    "b = np.arange(0, -10**6, -1).reshape((10,10,10,10,10,10))\n",
    "\n",
    "#timeit.timeit(\"b+c\", repeat=10, globals=globals())\n",
    "%timeit -n 10 a+b"
   ]
  },
  {
   "cell_type": "code",
   "execution_count": 2,
   "metadata": {},
   "outputs": [
    {
     "name": "stdout",
     "output_type": "stream",
     "text": [
      "5.68 ms ± 1.45 ms per loop (mean ± std. dev. of 7 runs, 10 loops each)\n"
     ]
    }
   ],
   "source": [
    "a = np.arange(10**6).reshape((10,10,10,10,10,10))\n",
    "b = a.transpose((0,3,4,2,1,5))\n",
    "c = a.T\n",
    "#timeit.timeit(\"b+c\", repeat=10, globals=globals())\n",
    "%timeit -n 10 b+c"
   ]
  },
  {
   "cell_type": "code",
   "execution_count": 3,
   "metadata": {},
   "outputs": [
    {
     "name": "stdout",
     "output_type": "stream",
     "text": [
      "3.92 ms ± 897 µs per loop (mean ± std. dev. of 7 runs, 10 loops each)\n"
     ]
    }
   ],
   "source": [
    "a = np.arange(10**6).reshape((10,10,10,10,10,10))\n",
    "b = a.transpose((1,2,3,4,5,0))\n",
    "c = a.T\n",
    "#timeit.timeit(\"b+c\", repeat=10, globals=globals())\n",
    "%timeit -n 10 b+c"
   ]
  },
  {
   "cell_type": "code",
   "execution_count": null,
   "metadata": {},
   "outputs": [],
   "source": []
  }
 ],
 "metadata": {
  "kernelspec": {
   "display_name": "Python 3",
   "language": "python",
   "name": "python3"
  },
  "language_info": {
   "codemirror_mode": {
    "name": "ipython",
    "version": 3
   },
   "file_extension": ".py",
   "mimetype": "text/x-python",
   "name": "python",
   "nbconvert_exporter": "python",
   "pygments_lexer": "ipython3",
   "version": "3.7.3"
  }
 },
 "nbformat": 4,
 "nbformat_minor": 2
}
